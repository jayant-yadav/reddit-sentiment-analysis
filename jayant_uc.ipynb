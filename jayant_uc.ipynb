{
 "cells": [
  {
   "cell_type": "code",
   "execution_count": 55,
   "id": "ba07a176-7449-4139-9a9e-2ff010e7b367",
   "metadata": {},
   "outputs": [],
   "source": [
    "from pyspark.sql import SparkSession\n",
    "from pyspark.sql.functions import *\n",
    "from pyspark.sql.types import *\n",
    "import time\n",
    "# packacges that needs to be installed across all nodes:\n",
    "from textblob import TextBlob \n",
    "import nltk\n",
    "from nltk.corpus import stopwords\n",
    "\n",
    "\n",
    "# New API\n",
    "spark_session = SparkSession\\\n",
    "        .builder\\\n",
    "        .master(\"spark://192.168.2.197:7077\") \\\n",
    "        .appName(\"jayant_uc_1\")\\\n",
    "        .config(\"spark.executor.cores\",2)\\\n",
    "        .config(\"spark.dynamicAllocation.enabled\", True)\\\n",
    "        .config(\"spark.dynamicAllocation.shuffleTracking.enabled\", True)\\\n",
    "        .config(\"spark.shuffle.service.enabled\", False)\\\n",
    "        .config(\"spark.dynamicAllocation.executorIdleTimeout\",\"60s\")\\\n",
    "        .config(\"spark.driver.port\",9998)\\\n",
    "        .config(\"spark.blockManager.port\",10005)\\\n",
    "        .config(\"spark.mongodb.input.uri\", \"mongodb://127.0.0.1/Reddit.comments\") \\\n",
    "        .config(\"spark.mongodb.output.uri\", \"mongodb://127.0.0.1/Reddit.comments\") \\\n",
    "        .config(\"spark.jars.packages\", \"org.mongodb.spark:mongo-spark-connector_2.12:3.0.1\")\\\n",
    "        .getOrCreate()\n",
    "\n",
    "# Old API (RDD)\n",
    "spark_context = spark_session.sparkContext\n",
    "\n",
    "spark_context.setLogLevel(\"ERROR\")"
   ]
  },
  {
   "cell_type": "code",
   "execution_count": 56,
   "id": "81851fcf-d210-40e2-a6d1-7f0c14855a80",
   "metadata": {},
   "outputs": [
    {
     "name": "stderr",
     "output_type": "stream",
     "text": [
      "[Stage 1:>                                                          (0 + 1) / 1]\r"
     ]
    },
    {
     "name": "stdout",
     "output_type": "stream",
     "text": [
      "+--------------------+\n",
      "|                body|\n",
      "+--------------------+\n",
      "|Good rant, stop l...|\n",
      "|  Sounds good to me.|\n",
      "+--------------------+\n",
      "only showing top 2 rows\n",
      "\n"
     ]
    },
    {
     "name": "stderr",
     "output_type": "stream",
     "text": [
      "                                                                                \r"
     ]
    }
   ],
   "source": [
    "path1 = \"hdfs://130.238.28.151:9000/user/ubuntu/Reddits_Comments\"\n",
    "path2 = 'hdfs://130.238.28.151:9000/user/hadoop/RC_2010-01'\n",
    "rc_df = spark_session.read\\\n",
    "    .option(\"header\", \"true\")\\\n",
    "    .json(path2)\\\n",
    "    .cache()\n",
    "\n",
    "\n",
    "rcb_df = rc_df.select('body')\n",
    "rcb_df.show(2)\n"
   ]
  },
  {
   "cell_type": "code",
   "execution_count": 57,
   "id": "dc9400f1-0860-4cde-9948-8630ac8d9cca",
   "metadata": {},
   "outputs": [
    {
     "name": "stderr",
     "output_type": "stream",
     "text": [
      "[nltk_data] Downloading package stopwords to /home/ubuntu/nltk_data...\n",
      "[nltk_data]   Package stopwords is already up-to-date!\n",
      "[Stage 2:>                                                          (0 + 1) / 1]\r"
     ]
    },
    {
     "name": "stdout",
     "output_type": "stream",
     "text": [
      "+--------------------+\n",
      "|                body|\n",
      "+--------------------+\n",
      "|Good rant, stop l...|\n",
      "|    Sounds good me. |\n",
      "|Ok people donate ...|\n",
      "|               red? |\n",
      "|really want give ...|\n",
      "|school, depends p...|\n",
      "|they?  know recen...|\n",
      "|I'll add voice. b...|\n",
      "|        worry 2012. |\n",
      "|[George Carlin sa...|\n",
      "|No, like that. He...|\n",
      "|sad her.  been. k...|\n",
      "|realize 'assclown...|\n",
      "|sure wants back. ...|\n",
      "|cat consider dog ...|\n",
      "|hate uninformed r...|\n",
      "|No, found sack po...|\n",
      "|Feds take fall fi...|\n",
      "|   to, omgomgomgomg |\n",
      "|moved quite bit a...|\n",
      "+--------------------+\n",
      "only showing top 20 rows\n",
      "\n"
     ]
    },
    {
     "name": "stderr",
     "output_type": "stream",
     "text": [
      "                                                                                \r"
     ]
    }
   ],
   "source": [
    "# Cleaning text before analysis\n",
    "\n",
    "rcb_df = rcb_df.dropna()\n",
    "rcb_df = rcb_df.filter(rcb_df['body'] != '[deleted]')\n",
    "\n",
    "#removing stopwords\n",
    "\n",
    "nltk.download('stopwords')\n",
    "\n",
    "stop_words = stopwords.words(\"english\")\n",
    "\n",
    "def remove_stopwords_fnc(x):        \n",
    "    text = ''\n",
    "    for x in x.split(' '):\n",
    "        if x.lower() not in stop_words:\n",
    "            text += x + ' '\n",
    "        else:\n",
    "            pass\n",
    "    return text\n",
    "\n",
    "remove_stopwords_udf = udf(remove_stopwords_fnc)\n",
    "spark_session.udf.register(\"remove_stopwords_udf\", remove_stopwords_udf)\n",
    "rcb_df = rcb_df.withColumn('body',remove_stopwords_udf('body'))\n",
    "\n",
    "rcb_df.show()"
   ]
  },
  {
   "cell_type": "code",
   "execution_count": 58,
   "id": "116f9231-01c7-4dab-a85a-6ba74917ad01",
   "metadata": {},
   "outputs": [],
   "source": [
    "\n",
    "\n",
    "def sentiment_fnc(text):\n",
    "    return TextBlob(text).sentiment.polarity #gives the polarity of the sentiment, [-1.0, 1.0]\n",
    "    \n",
    "\n",
    "sentiment_udf = udf(lambda x: sentiment_fnc(x)) \n",
    "spark_session.udf.register(\"sentiment_udf\", sentiment_udf)\n",
    "rcb_df = rcb_df.withColumn('sentiment_score',sentiment_udf('body').cast('double'))\n"
   ]
  },
  {
   "cell_type": "code",
   "execution_count": 59,
   "id": "69d680de-cdb2-4f79-8c53-786cc3a58558",
   "metadata": {},
   "outputs": [
    {
     "name": "stderr",
     "output_type": "stream",
     "text": [
      "[Stage 3:>                                                          (0 + 1) / 1]\r"
     ]
    },
    {
     "name": "stdout",
     "output_type": "stream",
     "text": [
      "+--------------------+--------------------+\n",
      "|                body|     sentiment_score|\n",
      "+--------------------+--------------------+\n",
      "|Good rant, stop l...| 0.11613636363636362|\n",
      "|    Sounds good me. |                 0.7|\n",
      "|Ok people donate ...| 0.04999999999999999|\n",
      "|               red? |                 0.0|\n",
      "|really want give ...| 0.02938311688311688|\n",
      "|school, depends p...| 0.13333333333333333|\n",
      "|they?  know recen...| 0.16666666666666666|\n",
      "|I'll add voice. b...|                -0.5|\n",
      "|        worry 2012. |                 0.0|\n",
      "|[George Carlin sa...|              0.1875|\n",
      "|No, like that. He...|                 0.0|\n",
      "|sad her.  been. k...|-0.28214285714285714|\n",
      "|realize 'assclown...|                -0.1|\n",
      "|sure wants back. ...| 0.06643518518518518|\n",
      "|cat consider dog ...|                 0.0|\n",
      "|hate uninformed r...|-0.05510204081632656|\n",
      "|No, found sack po...|               -0.75|\n",
      "|Feds take fall fi...|0.024999999999999994|\n",
      "|   to, omgomgomgomg |                 0.0|\n",
      "|moved quite bit a...| 0.11666666666666665|\n",
      "|one gives hard ti...|0.004166666666666652|\n",
      "|    Sounds good me! |               0.875|\n",
      "|Scrutinizing Repu...|                0.25|\n",
      "|Read Revelation. ...|               0.375|\n",
      "|Never thought fic...|                 0.0|\n",
      "|hobby. Koopa pret...| 0.26785714285714285|\n",
      "|real question man...| 0.19999999999999998|\n",
      "|Well, hopefully f...|                 0.0|\n",
      "|City Colour  \\nSo...| 0.43333333333333335|\n",
      "|I'm thinking [thi...|                 0.5|\n",
      "+--------------------+--------------------+\n",
      "only showing top 30 rows\n",
      "\n"
     ]
    },
    {
     "name": "stderr",
     "output_type": "stream",
     "text": [
      "                                                                                \r"
     ]
    }
   ],
   "source": [
    "rcb_df.show(30)\n",
    "\n",
    "# rcb_df.orderBy(asc(\"sentiment_score\")).show()\n",
    "\n",
    "# rcb_df.orderBy(desc(\"sentiment_score\")).show()"
   ]
  },
  {
   "cell_type": "code",
   "execution_count": 54,
   "id": "ba8a2a83-a832-4e61-8d2d-312dfea5fe27",
   "metadata": {},
   "outputs": [],
   "source": [
    "spark_context.stop()"
   ]
  },
  {
   "cell_type": "code",
   "execution_count": null,
   "id": "1d65f3a9-94b1-4699-a900-7dcf851622bd",
   "metadata": {},
   "outputs": [],
   "source": []
  }
 ],
 "metadata": {
  "kernelspec": {
   "display_name": "Python 3 (ipykernel)",
   "language": "python",
   "name": "python3"
  },
  "language_info": {
   "codemirror_mode": {
    "name": "ipython",
    "version": 3
   },
   "file_extension": ".py",
   "mimetype": "text/x-python",
   "name": "python",
   "nbconvert_exporter": "python",
   "pygments_lexer": "ipython3",
   "version": "3.8.10"
  }
 },
 "nbformat": 4,
 "nbformat_minor": 5
}
