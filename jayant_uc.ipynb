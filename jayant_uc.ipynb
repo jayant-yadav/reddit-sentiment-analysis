{
 "cells": [
  {
   "cell_type": "code",
   "execution_count": 29,
   "id": "ba07a176-7449-4139-9a9e-2ff010e7b367",
   "metadata": {},
   "outputs": [],
   "source": [
    "from pyspark.sql import SparkSession\n",
    "from pyspark.sql.functions import *\n",
    "from pyspark.sql.types import *\n",
    "import time\n",
    "# packacges that needs to be installed across all nodes:\n",
    "from textblob import TextBlob \n",
    "\n",
    "\n",
    "# New API\n",
    "spark_session = SparkSession\\\n",
    "        .builder\\\n",
    "        .master(\"spark://192.168.2.197:7077\") \\\n",
    "        .appName(\"jayant_uc_1\")\\\n",
    "        .config(\"spark.executor.cores\",2)\\\n",
    "        .config(\"spark.dynamicAllocation.enabled\", True)\\\n",
    "        .config(\"spark.dynamicAllocation.shuffleTracking.enabled\", True)\\\n",
    "        .config(\"spark.shuffle.service.enabled\", False)\\\n",
    "        .config(\"spark.dynamicAllocation.executorIdleTimeout\",\"60s\")\\\n",
    "        .config(\"spark.driver.port\",9998)\\\n",
    "        .config(\"spark.blockManager.port\",10005)\\\n",
    "        .config(\"spark.mongodb.input.uri\", \"mongodb://127.0.0.1/Reddit.comments\") \\\n",
    "        .config(\"spark.mongodb.output.uri\", \"mongodb://127.0.0.1/Reddit.comments\") \\\n",
    "        .config(\"spark.jars.packages\", \"org.mongodb.spark:mongo-spark-connector_2.12:3.0.1\")\\\n",
    "        .getOrCreate()\n",
    "\n",
    "# Old API (RDD)\n",
    "spark_context = spark_session.sparkContext\n",
    "\n",
    "spark_context.setLogLevel(\"ERROR\")"
   ]
  },
  {
   "cell_type": "code",
   "execution_count": 30,
   "id": "81851fcf-d210-40e2-a6d1-7f0c14855a80",
   "metadata": {},
   "outputs": [
    {
     "name": "stderr",
     "output_type": "stream",
     "text": [
      "[Stage 1:>                                                          (0 + 1) / 1]\r"
     ]
    },
    {
     "name": "stdout",
     "output_type": "stream",
     "text": [
      "+--------------------+\n",
      "|                body|\n",
      "+--------------------+\n",
      "|Good rant, stop l...|\n",
      "|  Sounds good to me.|\n",
      "+--------------------+\n",
      "only showing top 2 rows\n",
      "\n"
     ]
    },
    {
     "name": "stderr",
     "output_type": "stream",
     "text": [
      "                                                                                \r"
     ]
    }
   ],
   "source": [
    "path1 = \"hdfs://130.238.28.151:9000/user/ubuntu/Reddits_Comments\"\n",
    "path2 = 'hdfs://130.238.28.151:9000/user/hadoop/RC_2010-01'\n",
    "rc_df = spark_session.read\\\n",
    "    .option(\"header\", \"true\")\\\n",
    "    .json(path2)\\\n",
    "    .cache()\n",
    "\n",
    "\n",
    "rcb_df = rc_df.select('body')\n",
    "rcb_df = rcb_df.dropna()\n",
    "rcb_df.show(2)\n"
   ]
  },
  {
   "cell_type": "code",
   "execution_count": null,
   "id": "dc9400f1-0860-4cde-9948-8630ac8d9cca",
   "metadata": {},
   "outputs": [],
   "source": [
    "# Cleaning text before analysis\n",
    "\n",
    "rcb_df = rcb_df.filter(rcb['body'] == '[deleted]')"
   ]
  },
  {
   "cell_type": "code",
   "execution_count": 32,
   "id": "116f9231-01c7-4dab-a85a-6ba74917ad01",
   "metadata": {},
   "outputs": [],
   "source": [
    "\n",
    "\n",
    "def sentiment_fnc(text):\n",
    "    return TextBlob(text).sentiment.polarity #gives the polarity of the sentiment, [-1.0, 1.0]\n",
    "    \n",
    "\n",
    "sentiment_udf = udf(lambda x: sentiment_fnc(x)) \n",
    "spark_session.udf.register(\"sentiment_udf\", sentiment_udf)\n",
    "rcb_df = rcb_df.withColumn('sentiment_score',sentiment_udf('body').cast('double'))\n"
   ]
  },
  {
   "cell_type": "code",
   "execution_count": null,
   "id": "69d680de-cdb2-4f79-8c53-786cc3a58558",
   "metadata": {},
   "outputs": [
    {
     "name": "stderr",
     "output_type": "stream",
     "text": [
      "[Stage 5:===================================>                      (8 + 4) / 13]\r"
     ]
    }
   ],
   "source": [
    "rcb_df.orderBy(asc(\"sentiment_score\")).show()\n",
    "\n",
    "rcb_df.orderBy(desc(\"sentiment_score\")).show()"
   ]
  },
  {
   "cell_type": "code",
   "execution_count": 28,
   "id": "ba8a2a83-a832-4e61-8d2d-312dfea5fe27",
   "metadata": {},
   "outputs": [],
   "source": [
    "spark_context.stop()"
   ]
  },
  {
   "cell_type": "code",
   "execution_count": 16,
   "id": "91d96ebe-eeb6-4a78-8fa1-409beafc0066",
   "metadata": {},
   "outputs": [
    {
     "name": "stdout",
     "output_type": "stream",
     "text": [
      "Sentiment(polarity=1.0, subjectivity=1.0)\n"
     ]
    }
   ],
   "source": []
  },
  {
   "cell_type": "code",
   "execution_count": null,
   "id": "1d65f3a9-94b1-4699-a900-7dcf851622bd",
   "metadata": {},
   "outputs": [],
   "source": []
  }
 ],
 "metadata": {
  "kernelspec": {
   "display_name": "Python 3 (ipykernel)",
   "language": "python",
   "name": "python3"
  },
  "language_info": {
   "codemirror_mode": {
    "name": "ipython",
    "version": 3
   },
   "file_extension": ".py",
   "mimetype": "text/x-python",
   "name": "python",
   "nbconvert_exporter": "python",
   "pygments_lexer": "ipython3",
   "version": "3.8.10"
  }
 },
 "nbformat": 4,
 "nbformat_minor": 5
}
