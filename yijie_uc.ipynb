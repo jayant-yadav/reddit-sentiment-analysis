{
 "cells": [
  {
   "cell_type": "code",
   "execution_count": 1,
   "id": "ba07a176-7449-4139-9a9e-2ff010e7b367",
   "metadata": {},
   "outputs": [],
   "source": [
    "from pyspark.sql import SparkSession\n",
    "from operator import add\n",
    "import time"
   ]
  },
  {
   "cell_type": "code",
   "execution_count": 2,
   "id": "929c1258-4ea9-488e-a23e-11c7c86dae2d",
   "metadata": {},
   "outputs": [
    {
     "name": "stderr",
     "output_type": "stream",
     "text": [
      "Using Spark's default log4j profile: org/apache/spark/log4j-defaults.properties\n",
      "Setting default log level to \"WARN\".\n",
      "To adjust logging level use sc.setLogLevel(newLevel). For SparkR, use setLogLevel(newLevel).\n",
      "22/03/16 23:01:21 WARN NativeCodeLoader: Unable to load native-hadoop library for your platform... using builtin-java classes where applicable\n",
      "22/03/16 23:01:24 WARN ExecutorAllocationManager: Dynamic allocation without a shuffle service is an experimental feature.\n"
     ]
    }
   ],
   "source": [
    "spark_session = SparkSession\\\n",
    "        .builder\\\n",
    "        .master(\"spark://192.168.2.197:7077\") \\\n",
    "        .appName(\"yijie_uc\")\\\n",
    "        .config(\"spark.dynamicAllocation.enabled\", True)\\\n",
    "        .config(\"spark.dynamicAllocation.shuffleTracking.enabled\",True)\\\n",
    "        .config(\"spark.shuffle.service.enabled\", False)\\\n",
    "        .config(\"spark.dynamicAllocation.executorIdleTimeout\",\"30s\")\\\n",
    "        .config(\"spark.executor.cores\",2)\\\n",
    "        .config(\"spark.driver.port\",9998)\\\n",
    "        .config(\"spark.blockManager.port\",10005)\\\n",
    "        .getOrCreate()\n",
    "\n",
    "# Old API (RDD)\n",
    "spark_context = spark_session.sparkContext\n",
    "\n",
    "spark_context.setLogLevel(\"ERROR\")"
   ]
  },
  {
   "cell_type": "code",
   "execution_count": 3,
   "id": "f43b00a0-1238-4dfd-97c6-bde6fff1f413",
   "metadata": {},
   "outputs": [
    {
     "name": "stderr",
     "output_type": "stream",
     "text": [
      "                                                                                \r"
     ]
    }
   ],
   "source": [
    "data_frame = spark_session.read\\\n",
    "    .option(\"header\", \"true\")\\\n",
    "    .json('hdfs://192.168.2.197:9000/user/hadoop/RC_2010-01')\\\n",
    "    .cache()"
   ]
  },
  {
   "cell_type": "code",
   "execution_count": 4,
   "id": "b950093f-39b9-435b-96f1-4ad6b3cd4b78",
   "metadata": {},
   "outputs": [],
   "source": [
    "start_time = time.time()"
   ]
  },
  {
   "cell_type": "code",
   "execution_count": 5,
   "id": "d55917f7-c9d9-4cd6-8fbb-cc82c3bf0ba4",
   "metadata": {},
   "outputs": [
    {
     "name": "stdout",
     "output_type": "stream",
     "text": [
      "root\n",
      " |-- archived: boolean (nullable = true)\n",
      " |-- author: string (nullable = true)\n",
      " |-- author_flair_css_class: string (nullable = true)\n",
      " |-- author_flair_text: string (nullable = true)\n",
      " |-- body: string (nullable = true)\n",
      " |-- controversiality: long (nullable = true)\n",
      " |-- created_utc: string (nullable = true)\n",
      " |-- distinguished: string (nullable = true)\n",
      " |-- downs: long (nullable = true)\n",
      " |-- edited: string (nullable = true)\n",
      " |-- gilded: long (nullable = true)\n",
      " |-- id: string (nullable = true)\n",
      " |-- link_id: string (nullable = true)\n",
      " |-- name: string (nullable = true)\n",
      " |-- parent_id: string (nullable = true)\n",
      " |-- removal_reason: string (nullable = true)\n",
      " |-- retrieved_on: long (nullable = true)\n",
      " |-- score: long (nullable = true)\n",
      " |-- score_hidden: boolean (nullable = true)\n",
      " |-- subreddit: string (nullable = true)\n",
      " |-- subreddit_id: string (nullable = true)\n",
      " |-- ups: long (nullable = true)\n",
      "\n"
     ]
    }
   ],
   "source": [
    "data_frame.printSchema()"
   ]
  },
  {
   "cell_type": "code",
   "execution_count": 6,
   "id": "37a317d3-54bd-40d0-b6c1-07bb074cbd0d",
   "metadata": {},
   "outputs": [
    {
     "name": "stderr",
     "output_type": "stream",
     "text": [
      "                                                                                \r"
     ]
    },
    {
     "data": {
      "text/plain": [
       "2884096"
      ]
     },
     "execution_count": 6,
     "metadata": {},
     "output_type": "execute_result"
    }
   ],
   "source": [
    "data_frame.count()"
   ]
  },
  {
   "cell_type": "code",
   "execution_count": 7,
   "id": "34ba4abc-dd99-4447-9f51-4087ea7761a6",
   "metadata": {},
   "outputs": [
    {
     "data": {
      "text/plain": [
       "13"
      ]
     },
     "execution_count": 7,
     "metadata": {},
     "output_type": "execute_result"
    }
   ],
   "source": [
    "data_frame.rdd.getNumPartitions()"
   ]
  },
  {
   "cell_type": "code",
   "execution_count": 8,
   "id": "126ae73e-17a5-4754-bd11-63cae5c38f3a",
   "metadata": {},
   "outputs": [
    {
     "name": "stdout",
     "output_type": "stream",
     "text": [
      "+--------+-------------+----------------------+-----------------+--------------------+----------------+-----------+-------------+-----+------+------+-------+--------+----------+----------+--------------+------------+-----+------------+-------------------+------------+---+\n",
      "|archived|       author|author_flair_css_class|author_flair_text|                body|controversiality|created_utc|distinguished|downs|edited|gilded|     id| link_id|      name| parent_id|removal_reason|retrieved_on|score|score_hidden|          subreddit|subreddit_id|ups|\n",
      "+--------+-------------+----------------------+-----------------+--------------------+----------------+-----------+-------------+-----+------+------+-------+--------+----------+----------+--------------+------------+-----+------------+-------------------+------------+---+\n",
      "|    true|David_ungerer|                  null|             null|Good rant, stop l...|               0| 1262304000|         null|    0| false|     0|c0i12v3|t3_akcbt|t1_c0i12v3|  t3_akcbt|          null|  1426171563|    5|       false|           politics|    t5_2cneq|  5|\n",
      "|    true|     JayDurst|                  null|             null|  Sounds good to me.|               0| 1262304001|         null|    0| false|     0|c0i12v4|t3_akb50|t1_c0i12v4|t1_c0i12q0|          null|  1426171563|    2|       false|            offbeat|    t5_2qh11|  2|\n",
      "|    true|  uninhibited|                  null|             null|Ok so people can ...|               0| 1262304001|         null|    0| false|     0|c0i12v5|t3_akcaj|t1_c0i12v5|  t3_akcaj|          null|  1426171563|    1|       false|             gaming|    t5_2qh03|  1|\n",
      "|    true|    [deleted]|                  null|             null|           [deleted]|               0| 1262304001|         null|    0| false|     0|c0i12v6|t3_ak0b7|t1_c0i12v6|  t3_ak0b7|          null|  1426171563|    2|       false|              trees|    t5_2r9vp|  2|\n",
      "|    true|         parl|                  null|             null|         Why so red?|               0| 1262304002|         null|    0| false|     0|c0i12v7|t3_akddz|t1_c0i12v7|  t3_akddz|          null|  1426171564|   -1|       false|           gonewild|    t5_2qq5c| -1|\n",
      "|    true| epsilondelta|                  null|             null|I don't really wa...|               0| 1262304004|         null|    0| false|     0|c0i12v8|t3_akdlt|t1_c0i12v8|t1_c0i12gs|          null|  1426171564|    2|       false|               IAmA|    t5_2qzb6|  2|\n",
      "|    true|       cynest|                  null|             null|At my school, it ...|               0| 1262304004|         null|    0| false|     0|c0i12v9|t3_ak4ed|t1_c0i12v9|t1_c0i06xd|          null|  1426171564|    1|       false|                WTF|    t5_2qh61|  1|\n",
      "|    true|     dehrmann|                  null|             null|Are they?  I know...|               0| 1262304004|         null|    0| false|     0|c0i12va|t3_akc2y|t1_c0i12va|t1_c0i1234|          null|  1426171564|    2|       false|                WTF|    t5_2qh61|  2|\n",
      "|    true|    Gareth321|                  null|             null|I'll add my voice...|               0| 1262304004|         null|    0| false|     0|c0i12vb|t3_ak8ye|t1_c0i12vb|t1_c0i0teo|          null|  1426171564|    2|       false|         MensRights|    t5_2qhk3|  2|\n",
      "|    true|    [deleted]|                  null|             null|Now all we have t...|               0| 1262304005|         null|    0| false|     0|c0i12vc|t3_akcrz|t1_c0i12vc|  t3_akcrz|          null|  1426171564|    3|       false|               pics|    t5_2qh0u|  3|\n",
      "|    true|    [deleted]|                  null|             null|[George Carlin sa...|               0| 1262304007|         null|    0|  true|     0|c0i12vd|t3_akcbo|t1_c0i12vd|t1_c0i0wkn|          null|  1426171564|   69|       false|              funny|    t5_2qh33| 69|\n",
      "|    true|    [deleted]|                  null|             null|No, it's not like...|               0| 1262304007|         null|    0| false|     0|c0i12ve|t3_akcbo|t1_c0i12ve|t1_c0i0yzc|          null|  1426171564|   51|       false|              funny|    t5_2qh33| 51|\n",
      "|    true|        kousi|                  null|             null|Was sad about her...|               0| 1262304009|         null|    0| false|     0|c0i12vf|t3_akdvr|t1_c0i12vf|  t3_akdvr|          null|  1426171564|    2|       false|          AskReddit|    t5_2qh1i|  2|\n",
      "|    true| jerrygofixit|                  null|             null|I didn't realize ...|               0| 1262304010|         null|    0| false|     0|c0i12vg|t3_akc5i|t1_c0i12vg|t1_c0i0ycc|          null|  1426171564|    7|       false|         reddit.com|        t5_6|  7|\n",
      "|    true|    [deleted]|                  null|             null|Don't be so sure ...|               0| 1262304011|         null|    0| false|     0|c0i12vh|t3_akaqc|t1_c0i12vh|  t3_akaqc|          null|  1426171564|    2|       false|relationship_advice|    t5_2r0cn|  2|\n",
      "|    true|       rchase|                  null|             null|That cat does not...|               0| 1262304013|         null|    0| false|     0|c0i12vi|t3_akdsr|t1_c0i12vi|  t3_akdsr|          null|  1426171564|    1|       false|         reddit.com|        t5_6|  1|\n",
      "|    true|     SoMoNoFo|                  null|             null|I just hate uninf...|               0| 1262304013|         null|    0| false|     0|c0i12vj|t3_ai99l|t1_c0i12vj|t1_c0hp2bc|          null|  1426171564|    2|       false|           politics|    t5_2cneq|  2|\n",
      "|    true|   supersauce|                  null|             null|No, but he found ...|               0| 1262304014|         null|    0| false|     0|c0i12vk|t3_ak7g4|t1_c0i12vk|t1_c0i0s3k|          null|  1426171564|    1|       false|         reddit.com|        t5_6|  1|\n",
      "|    true|    [deleted]|                  null|             null|Feds take the fal...|               0| 1262304015|         null|    0| false|     0|c0i12vl|t3_akd1g|t1_c0i12vl|  t3_akd1g|          null|  1426171564|    2|       false|           politics|    t5_2cneq|  2|\n",
      "|    true|    [deleted]|                  null|             null| Me to, omgomgomgomg|               0| 1262304015|         null|    0| false|     0|c0i12vm|t3_ake21|t1_c0i12vm|t1_c0i12nn|          null|  1426171564|    0|       false|          AskReddit|    t5_2qh1i|  0|\n",
      "+--------+-------------+----------------------+-----------------+--------------------+----------------+-----------+-------------+-----+------+------+-------+--------+----------+----------+--------------+------------+-----+------------+-------------------+------------+---+\n",
      "only showing top 20 rows\n",
      "\n"
     ]
    }
   ],
   "source": [
    "data_frame.show()"
   ]
  },
  {
   "cell_type": "code",
   "execution_count": 9,
   "id": "383998ef-5f57-42ff-bc37-c2a48c230397",
   "metadata": {},
   "outputs": [
    {
     "name": "stderr",
     "output_type": "stream",
     "text": [
      "[Stage 5:================================================>        (11 + 2) / 13]\r"
     ]
    },
    {
     "name": "stdout",
     "output_type": "stream",
     "text": [
      "+-------------------+------+\n",
      "|          subreddit| count|\n",
      "+-------------------+------+\n",
      "|          AskReddit|623825|\n",
      "|         reddit.com|300476|\n",
      "|               pics|198009|\n",
      "|           politics|146922|\n",
      "|               IAmA|135360|\n",
      "|                WTF|114836|\n",
      "|             gaming|113877|\n",
      "|              funny| 80320|\n",
      "|            atheism| 71549|\n",
      "|            science| 70028|\n",
      "|        programming| 66474|\n",
      "|          worldnews| 65451|\n",
      "|         technology| 49710|\n",
      "|    DoesAnybodyElse| 37237|\n",
      "|              Music| 26250|\n",
      "|relationship_advice| 23163|\n",
      "|fffffffuuuuuuuuuuuu| 20700|\n",
      "|          Economics| 19635|\n",
      "|             videos| 18558|\n",
      "|              trees| 18314|\n",
      "+-------------------+------+\n",
      "only showing top 20 rows\n",
      "\n"
     ]
    },
    {
     "name": "stderr",
     "output_type": "stream",
     "text": [
      "                                                                                \r"
     ]
    }
   ],
   "source": [
    "df_subreddit = data_frame.select('subreddit')\n",
    "df_subreddit = df_subreddit.dropna()\n",
    "df_subreddit_frequency = df_subreddit.groupby(\"subreddit\").count()\n",
    "df_subreddit_f = df_subreddit_frequency.sort('count',ascending=False).show(20)"
   ]
  },
  {
   "cell_type": "code",
   "execution_count": 10,
   "id": "f47d47ba-909a-4f82-b9e3-9acee888e2b9",
   "metadata": {},
   "outputs": [
    {
     "name": "stdout",
     "output_type": "stream",
     "text": [
      "Execution time: 34.95212388038635\n"
     ]
    }
   ],
   "source": [
    "print(f\"Execution time: {time.time() - start_time}\")"
   ]
  },
  {
   "cell_type": "code",
   "execution_count": null,
   "id": "1f042798-0428-4cc8-8e91-371f70e8339a",
   "metadata": {},
   "outputs": [],
   "source": []
  }
 ],
 "metadata": {
  "kernelspec": {
   "display_name": "Python 3 (ipykernel)",
   "language": "python",
   "name": "python3"
  },
  "language_info": {
   "codemirror_mode": {
    "name": "ipython",
    "version": 3
   },
   "file_extension": ".py",
   "mimetype": "text/x-python",
   "name": "python",
   "nbconvert_exporter": "python",
   "pygments_lexer": "ipython3",
   "version": "3.8.10"
  }
 },
 "nbformat": 4,
 "nbformat_minor": 5
}
