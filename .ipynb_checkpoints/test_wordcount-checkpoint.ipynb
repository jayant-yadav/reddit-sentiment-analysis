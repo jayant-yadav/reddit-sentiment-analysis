{
 "cells": [
  {
   "cell_type": "code",
   "execution_count": 3,
   "id": "e2876be3-be44-44f8-940a-6fadcf35666f",
   "metadata": {
    "tags": []
   },
   "outputs": [
    {
     "name": "stderr",
     "output_type": "stream",
     "text": [
      "Using Spark's default log4j profile: org/apache/spark/log4j-defaults.properties\n",
      "Setting default log level to \"WARN\".\n",
      "To adjust logging level use sc.setLogLevel(newLevel). For SparkR, use setLogLevel(newLevel).\n",
      "22/03/14 14:33:05 WARN NativeCodeLoader: Unable to load native-hadoop library for your platform... using builtin-java classes where applicable\n",
      "22/03/14 14:33:07 WARN ExecutorAllocationManager: Dynamic allocation without a shuffle service is an experimental feature.\n"
     ]
    }
   ],
   "source": [
    "from pyspark.sql import SparkSession\n",
    "\n",
    "# New API\n",
    "spark_session = SparkSession\\\n",
    "        .builder\\\n",
    "        .master(\"spark://192.168.2.197:7077\") \\\n",
    "        .appName(\"Test_wordcount\")\\\n",
    "        .config(\"spark.executor.cores\",2)\\\n",
    "        .config(\"spark.dynamicAllocation.enabled\", True)\\\n",
    "        .config(\"spark.dynamicAllocation.shuffleTracking.enabled\", True)\\\n",
    "        .config(\"spark.shuffle.service.enabled\", False)\\\n",
    "        .config(\"spark.dynamicAllocation.executorIdleTimeout\",\"30s\")\\\n",
    "        .config(\"spark.driver.port\",9998)\\\n",
    "        .config(\"spark.blockManager.port\",10005)\\\n",
    "        .getOrCreate()\n",
    "\n",
    "# Old API (RDD)\n",
    "spark_context = spark_session.sparkContext\n",
    "\n",
    "spark_context.setLogLevel(\"INFO\")"
   ]
  },
  {
   "cell_type": "code",
   "execution_count": 4,
   "id": "18551c18-8f6f-42cd-a27a-feb59c1c5e90",
   "metadata": {},
   "outputs": [],
   "source": [
    "import time \n",
    "startTimeQuery = time.time()"
   ]
  },
  {
   "cell_type": "code",
   "execution_count": 5,
   "id": "0074ba73-939c-4b11-8547-a8182c49d8e8",
   "metadata": {},
   "outputs": [
    {
     "name": "stderr",
     "output_type": "stream",
     "text": [
      "22/03/14 14:33:43 INFO MemoryStore: Block broadcast_0 stored as values in memory (estimated size 354.4 KiB, free 366.0 MiB)\n",
      "22/03/14 14:33:43 INFO MemoryStore: Block broadcast_0_piece0 stored as bytes in memory (estimated size 32.0 KiB, free 365.9 MiB)\n",
      "22/03/14 14:33:43 INFO BlockManagerInfo: Added broadcast_0_piece0 in memory on g11-project-master:10005 (size: 32.0 KiB, free: 366.3 MiB)\n",
      "22/03/14 14:33:43 INFO SparkContext: Created broadcast 0 from textFile at NativeMethodAccessorImpl.java:0\n",
      "22/03/14 14:33:44 INFO FileInputFormat: Total input files to process : 1\n",
      "22/03/14 14:33:44 INFO SparkContext: Starting job: count at /tmp/ipykernel_134584/3151116216.py:3\n",
      "22/03/14 14:33:44 INFO DAGScheduler: Got job 0 (count at /tmp/ipykernel_134584/3151116216.py:3) with 2 output partitions\n",
      "22/03/14 14:33:44 INFO DAGScheduler: Final stage: ResultStage 0 (count at /tmp/ipykernel_134584/3151116216.py:3)\n",
      "22/03/14 14:33:44 INFO DAGScheduler: Parents of final stage: List()\n",
      "22/03/14 14:33:44 INFO DAGScheduler: Missing parents: List()\n",
      "22/03/14 14:33:44 INFO DAGScheduler: Submitting ResultStage 0 (PythonRDD[2] at count at /tmp/ipykernel_134584/3151116216.py:3), which has no missing parents\n",
      "22/03/14 14:33:44 INFO MemoryStore: Block broadcast_1 stored as values in memory (estimated size 8.7 KiB, free 365.9 MiB)\n",
      "22/03/14 14:33:44 INFO MemoryStore: Block broadcast_1_piece0 stored as bytes in memory (estimated size 5.2 KiB, free 365.9 MiB)\n",
      "22/03/14 14:33:44 INFO BlockManagerInfo: Added broadcast_1_piece0 in memory on g11-project-master:10005 (size: 5.2 KiB, free: 366.3 MiB)\n",
      "22/03/14 14:33:44 INFO SparkContext: Created broadcast 1 from broadcast at DAGScheduler.scala:1478\n",
      "22/03/14 14:33:44 INFO DAGScheduler: Submitting 2 missing tasks from ResultStage 0 (PythonRDD[2] at count at /tmp/ipykernel_134584/3151116216.py:3) (first 15 tasks are for partitions Vector(0, 1))\n",
      "22/03/14 14:33:44 INFO TaskSchedulerImpl: Adding task set 0.0 with 2 tasks resource profile 0\n",
      "22/03/14 14:33:45 INFO StandaloneAppClient$ClientEndpoint: Executor added: app-20220314143307-0023/0 on worker-20220312123152-192.168.2.197-35179 (192.168.2.197:35179) with 2 core(s)\n",
      "22/03/14 14:33:45 INFO StandaloneSchedulerBackend: Granted executor ID app-20220314143307-0023/0 on hostPort 192.168.2.197:35179 with 2 core(s), 1024.0 MiB RAM\n",
      "22/03/14 14:33:45 INFO ExecutorAllocationManager: Requesting 1 new executor because tasks are backlogged (new desired total will be 1 for resource profile id: 0)\n",
      "22/03/14 14:33:45 INFO StandaloneAppClient$ClientEndpoint: Executor updated: app-20220314143307-0023/0 is now RUNNING\n",
      "22/03/14 14:33:48 INFO CoarseGrainedSchedulerBackend$DriverEndpoint: Registered executor NettyRpcEndpointRef(spark-client://Executor) (192.168.2.197:53134) with ID 0,  ResourceProfileId 0\n",
      "22/03/14 14:33:48 INFO ExecutorMonitor: New executor 0 has registered (new total is 2)\n",
      "22/03/14 14:33:49 INFO BlockManagerMasterEndpoint: Registering block manager 192.168.2.197:10006 with 366.3 MiB RAM, BlockManagerId(0, 192.168.2.197, 10006, None)\n",
      "22/03/14 14:33:49 INFO TaskSetManager: Starting task 0.0 in stage 0.0 (TID 0) (192.168.2.197, executor 0, partition 0, ANY, 4533 bytes) taskResourceAssignments Map()\n",
      "22/03/14 14:33:49 INFO TaskSetManager: Starting task 1.0 in stage 0.0 (TID 1) (192.168.2.197, executor 0, partition 1, ANY, 4533 bytes) taskResourceAssignments Map()\n",
      "22/03/14 14:33:49 INFO BlockManagerInfo: Added broadcast_1_piece0 in memory on 192.168.2.197:10006 (size: 5.2 KiB, free: 366.3 MiB)\n",
      "22/03/14 14:33:51 INFO BlockManagerInfo: Added broadcast_0_piece0 in memory on 192.168.2.197:10006 (size: 32.0 KiB, free: 366.3 MiB)\n"
     ]
    },
    {
     "name": "stdout",
     "output_type": "stream",
     "text": [
      "12760\n"
     ]
    },
    {
     "name": "stderr",
     "output_type": "stream",
     "text": [
      "22/03/14 14:33:58 INFO TaskSetManager: Finished task 1.0 in stage 0.0 (TID 1) in 9426 ms on 192.168.2.197 (executor 0) (1/2)\n",
      "22/03/14 14:33:58 INFO TaskSetManager: Finished task 0.0 in stage 0.0 (TID 0) in 9480 ms on 192.168.2.197 (executor 0) (2/2)\n",
      "22/03/14 14:33:58 INFO TaskSchedulerImpl: Removed TaskSet 0.0, whose tasks have all completed, from pool \n",
      "22/03/14 14:33:58 INFO PythonAccumulatorV2: Connected to AccumulatorServer at host: 127.0.0.1 port: 52989\n",
      "22/03/14 14:33:58 INFO DAGScheduler: ResultStage 0 (count at /tmp/ipykernel_134584/3151116216.py:3) finished in 14.227 s\n",
      "22/03/14 14:33:58 INFO DAGScheduler: Job 0 is finished. Cancelling potential speculative or zombie tasks for this job\n",
      "22/03/14 14:33:58 INFO TaskSchedulerImpl: Killing all running tasks in stage 0: Stage finished\n",
      "22/03/14 14:33:58 INFO DAGScheduler: Job 0 finished: count at /tmp/ipykernel_134584/3151116216.py:3, took 14.330769 s\n",
      "                                                                                \r"
     ]
    }
   ],
   "source": [
    "path = \"hdfs://130.238.28.151:9000/user/ubuntu/input/20417.txt.utf-8\"\n",
    "data = spark_context.textFile(path)\n",
    "count = data.count()\n",
    "print(count)"
   ]
  },
  {
   "cell_type": "code",
   "execution_count": 6,
   "id": "4fd3e54d-f91c-4337-a73a-4b20340d3ab7",
   "metadata": {},
   "outputs": [
    {
     "name": "stderr",
     "output_type": "stream",
     "text": [
      "22/03/14 14:34:08 INFO SparkContext: Starting job: takeOrdered at /tmp/ipykernel_134584/954195394.py:13\n",
      "22/03/14 14:34:08 INFO DAGScheduler: Registering RDD 4 (reduceByKey at /tmp/ipykernel_134584/954195394.py:11) as input to shuffle 0\n",
      "22/03/14 14:34:08 INFO DAGScheduler: Got job 1 (takeOrdered at /tmp/ipykernel_134584/954195394.py:13) with 2 output partitions\n",
      "22/03/14 14:34:08 INFO DAGScheduler: Final stage: ResultStage 2 (takeOrdered at /tmp/ipykernel_134584/954195394.py:13)\n",
      "22/03/14 14:34:08 INFO DAGScheduler: Parents of final stage: List(ShuffleMapStage 1)\n",
      "22/03/14 14:34:08 INFO DAGScheduler: Missing parents: List(ShuffleMapStage 1)\n",
      "22/03/14 14:34:08 INFO DAGScheduler: Submitting ShuffleMapStage 1 (PairwiseRDD[4] at reduceByKey at /tmp/ipykernel_134584/954195394.py:11), which has no missing parents\n",
      "22/03/14 14:34:08 INFO MemoryStore: Block broadcast_2 stored as values in memory (estimated size 12.6 KiB, free 365.9 MiB)\n",
      "22/03/14 14:34:08 INFO MemoryStore: Block broadcast_2_piece0 stored as bytes in memory (estimated size 7.4 KiB, free 365.9 MiB)\n",
      "22/03/14 14:34:08 INFO BlockManagerInfo: Added broadcast_2_piece0 in memory on g11-project-master:10005 (size: 7.4 KiB, free: 366.3 MiB)\n",
      "22/03/14 14:34:08 INFO SparkContext: Created broadcast 2 from broadcast at DAGScheduler.scala:1478\n",
      "22/03/14 14:34:08 INFO DAGScheduler: Submitting 2 missing tasks from ShuffleMapStage 1 (PairwiseRDD[4] at reduceByKey at /tmp/ipykernel_134584/954195394.py:11) (first 15 tasks are for partitions Vector(0, 1))\n",
      "22/03/14 14:34:08 INFO TaskSchedulerImpl: Adding task set 1.0 with 2 tasks resource profile 0\n",
      "22/03/14 14:34:08 INFO TaskSetManager: Starting task 0.0 in stage 1.0 (TID 2) (192.168.2.197, executor 0, partition 0, ANY, 4522 bytes) taskResourceAssignments Map()\n",
      "22/03/14 14:34:08 INFO TaskSetManager: Starting task 1.0 in stage 1.0 (TID 3) (192.168.2.197, executor 0, partition 1, ANY, 4522 bytes) taskResourceAssignments Map()\n",
      "22/03/14 14:34:08 INFO BlockManagerInfo: Added broadcast_2_piece0 in memory on 192.168.2.197:10006 (size: 7.4 KiB, free: 366.3 MiB)\n",
      "22/03/14 14:34:10 INFO TaskSetManager: Finished task 0.0 in stage 1.0 (TID 2) in 1802 ms on 192.168.2.197 (executor 0) (1/2)\n",
      "22/03/14 14:34:10 INFO TaskSetManager: Finished task 1.0 in stage 1.0 (TID 3) in 1803 ms on 192.168.2.197 (executor 0) (2/2)\n",
      "22/03/14 14:34:10 INFO TaskSchedulerImpl: Removed TaskSet 1.0, whose tasks have all completed, from pool \n",
      "22/03/14 14:34:10 INFO DAGScheduler: ShuffleMapStage 1 (reduceByKey at /tmp/ipykernel_134584/954195394.py:11) finished in 1.834 s\n",
      "22/03/14 14:34:10 INFO DAGScheduler: looking for newly runnable stages\n",
      "22/03/14 14:34:10 INFO DAGScheduler: running: Set()\n",
      "22/03/14 14:34:10 INFO DAGScheduler: waiting: Set(ResultStage 2)\n",
      "22/03/14 14:34:10 INFO DAGScheduler: failed: Set()\n",
      "22/03/14 14:34:10 INFO DAGScheduler: Submitting ResultStage 2 (PythonRDD[7] at takeOrdered at /tmp/ipykernel_134584/954195394.py:13), which has no missing parents\n",
      "22/03/14 14:34:10 INFO MemoryStore: Block broadcast_3 stored as values in memory (estimated size 10.7 KiB, free 365.9 MiB)\n",
      "22/03/14 14:34:10 INFO MemoryStore: Block broadcast_3_piece0 stored as bytes in memory (estimated size 6.1 KiB, free 365.9 MiB)\n",
      "22/03/14 14:34:10 INFO BlockManagerInfo: Added broadcast_3_piece0 in memory on g11-project-master:10005 (size: 6.1 KiB, free: 366.3 MiB)\n",
      "22/03/14 14:34:10 INFO SparkContext: Created broadcast 3 from broadcast at DAGScheduler.scala:1478\n",
      "22/03/14 14:34:10 INFO DAGScheduler: Submitting 2 missing tasks from ResultStage 2 (PythonRDD[7] at takeOrdered at /tmp/ipykernel_134584/954195394.py:13) (first 15 tasks are for partitions Vector(0, 1))\n",
      "22/03/14 14:34:10 INFO TaskSchedulerImpl: Adding task set 2.0 with 2 tasks resource profile 0\n",
      "22/03/14 14:34:10 INFO TaskSetManager: Starting task 0.0 in stage 2.0 (TID 4) (192.168.2.197, executor 0, partition 0, NODE_LOCAL, 4275 bytes) taskResourceAssignments Map()\n",
      "22/03/14 14:34:10 INFO TaskSetManager: Starting task 1.0 in stage 2.0 (TID 5) (192.168.2.197, executor 0, partition 1, NODE_LOCAL, 4275 bytes) taskResourceAssignments Map()\n",
      "22/03/14 14:34:10 INFO BlockManagerInfo: Added broadcast_3_piece0 in memory on 192.168.2.197:10006 (size: 6.1 KiB, free: 366.3 MiB)\n",
      "22/03/14 14:34:10 INFO MapOutputTrackerMasterEndpoint: Asked to send map output locations for shuffle 0 to 192.168.2.197:53134\n"
     ]
    },
    {
     "name": "stdout",
     "output_type": "stream",
     "text": [
      "[('', 14639), ('the', 9154), ('of', 5754), ('and', 2909), ('a', 2728), ('in', 2347), ('to', 2233), ('is', 2098), ('it', 1322), ('that', 1312)]\n",
      "29.791 seconds\n"
     ]
    },
    {
     "name": "stderr",
     "output_type": "stream",
     "text": [
      "22/03/14 14:34:10 INFO TaskSetManager: Finished task 0.0 in stage 2.0 (TID 4) in 298 ms on 192.168.2.197 (executor 0) (1/2)\n",
      "22/03/14 14:34:10 INFO TaskSetManager: Finished task 1.0 in stage 2.0 (TID 5) in 304 ms on 192.168.2.197 (executor 0) (2/2)\n",
      "22/03/14 14:34:10 INFO TaskSchedulerImpl: Removed TaskSet 2.0, whose tasks have all completed, from pool \n",
      "22/03/14 14:34:10 INFO DAGScheduler: ResultStage 2 (takeOrdered at /tmp/ipykernel_134584/954195394.py:13) finished in 0.321 s\n",
      "22/03/14 14:34:10 INFO DAGScheduler: Job 1 is finished. Cancelling potential speculative or zombie tasks for this job\n",
      "22/03/14 14:34:10 INFO TaskSchedulerImpl: Killing all running tasks in stage 2: Stage finished\n",
      "22/03/14 14:34:10 INFO DAGScheduler: Job 1 finished: takeOrdered at /tmp/ipykernel_134584/954195394.py:13, took 2.204417 s\n",
      "                                                                                \r"
     ]
    }
   ],
   "source": [
    "#Pre-process the text \n",
    "    #Lowercase the text\n",
    "    #Tokenize the text (split on space)\n",
    "    \n",
    "lowercased = data.map(lambda line: line.lower())\n",
    "tokenized = lowercased.flatMap(lambda word: word.split(' '))\n",
    "\n",
    "mapped = tokenized.map(lambda w: w.strip())\\\n",
    "    .map(lambda w: (w,1))\n",
    "\n",
    "merged = mapped.reduceByKey(lambda x,y: x+y)\n",
    "\n",
    "print(merged.takeOrdered(10, key=lambda x: -x[1]))\n",
    "\n",
    "\n",
    "endTimeQuery = time.time()\n",
    "runTimeQuery = round((endTimeQuery - startTimeQuery),3)\n",
    "print(f\"{runTimeQuery} seconds\")"
   ]
  },
  {
   "cell_type": "code",
   "execution_count": 7,
   "id": "7e3571d6-de26-4298-991c-39dd8ec7f862",
   "metadata": {},
   "outputs": [
    {
     "name": "stderr",
     "output_type": "stream",
     "text": [
      "22/03/14 14:34:17 INFO SparkUI: Stopped Spark web UI at http://g11-project-master:4040\n",
      "22/03/14 14:34:17 INFO StandaloneSchedulerBackend: Shutting down all executors\n",
      "22/03/14 14:34:17 INFO CoarseGrainedSchedulerBackend$DriverEndpoint: Asking each executor to shut down\n",
      "22/03/14 14:34:17 INFO MapOutputTrackerMasterEndpoint: MapOutputTrackerMasterEndpoint stopped!\n",
      "22/03/14 14:34:17 INFO MemoryStore: MemoryStore cleared\n",
      "22/03/14 14:34:17 INFO BlockManager: BlockManager stopped\n",
      "22/03/14 14:34:17 INFO BlockManagerMaster: BlockManagerMaster stopped\n",
      "22/03/14 14:34:17 INFO OutputCommitCoordinator$OutputCommitCoordinatorEndpoint: OutputCommitCoordinator stopped!\n",
      "22/03/14 14:34:17 INFO SparkContext: Successfully stopped SparkContext\n"
     ]
    }
   ],
   "source": [
    "spark_context.stop()"
   ]
  },
  {
   "cell_type": "code",
   "execution_count": null,
   "id": "d706939a-3d73-4bd8-9ca6-43057b1dec29",
   "metadata": {},
   "outputs": [],
   "source": []
  }
 ],
 "metadata": {
  "kernelspec": {
   "display_name": "Python 3 (ipykernel)",
   "language": "python",
   "name": "python3"
  },
  "language_info": {
   "codemirror_mode": {
    "name": "ipython",
    "version": 3
   },
   "file_extension": ".py",
   "mimetype": "text/x-python",
   "name": "python",
   "nbconvert_exporter": "python",
   "pygments_lexer": "ipython3",
   "version": "3.8.10"
  }
 },
 "nbformat": 4,
 "nbformat_minor": 5
}
