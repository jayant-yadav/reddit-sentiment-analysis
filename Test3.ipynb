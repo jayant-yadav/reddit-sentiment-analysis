{
 "cells": [
  {
   "cell_type": "code",
   "execution_count": 1,
   "id": "266e1825-1d6c-4d88-8fbd-512d2b8e74ba",
   "metadata": {},
   "outputs": [
    {
     "name": "stderr",
     "output_type": "stream",
     "text": [
      "Using Spark's default log4j profile: org/apache/spark/log4j-defaults.properties\n",
      "Setting default log level to \"WARN\".\n",
      "To adjust logging level use sc.setLogLevel(newLevel). For SparkR, use setLogLevel(newLevel).\n",
      "22/03/15 18:33:48 WARN NativeCodeLoader: Unable to load native-hadoop library for your platform... using builtin-java classes where applicable\n",
      "22/03/15 18:33:48 WARN Utils: Service 'sparkDriver' could not bind on port 9998. Attempting port 9999.\n",
      "22/03/15 18:33:49 WARN Utils: Service 'SparkUI' could not bind on port 4040. Attempting port 4041.\n",
      "22/03/15 18:33:50 WARN Utils: Service 'org.apache.spark.network.netty.NettyBlockTransferService' could not bind on port 10005. Attempting port 10006.\n",
      "22/03/15 18:33:50 WARN ExecutorAllocationManager: Dynamic allocation without a shuffle service is an experimental feature.\n"
     ]
    }
   ],
   "source": [
    "from pyspark.sql import SparkSession\n",
    "import json\n",
    "import pandas as pd \n",
    "\n",
    "\n",
    "# New API\n",
    "spark_session = SparkSession\\\n",
    "        .builder\\\n",
    "        .master(\"spark://192.168.2.197:7077\") \\\n",
    "        .appName(\"Test_ReddiComments\")\\\n",
    "        .config(\"spark.executor.cores\",2)\\\n",
    "        .config(\"spark.dynamicAllocation.enabled\", True)\\\n",
    "        .config(\"spark.dynamicAllocation.shuffleTracking.enabled\", True)\\\n",
    "        .config(\"spark.shuffle.service.enabled\", False)\\\n",
    "        .config(\"spark.dynamicAllocation.executorIdleTimeout\",\"30s\")\\\n",
    "        .config(\"spark.driver.port\",9998)\\\n",
    "        .config(\"spark.blockManager.port\",10005)\\\n",
    "        .getOrCreate()\n",
    "\n",
    "# Old API (RDD)\n",
    "spark_context = spark_session.sparkContext\n",
    "\n",
    "spark_context.setLogLevel(\"INFO\")"
   ]
  },
  {
   "cell_type": "code",
   "execution_count": 2,
   "id": "4bad927d-97f8-48f1-81dd-d8d8952a763b",
   "metadata": {},
   "outputs": [
    {
     "name": "stderr",
     "output_type": "stream",
     "text": [
      "22/03/15 18:34:03 INFO InMemoryFileIndex: It took 107 ms to list leaf files for 1 paths.\n",
      "22/03/15 18:34:03 INFO MemoryStore: Block broadcast_0 stored as values in memory (estimated size 343.8 KiB, free 366.0 MiB)\n",
      "22/03/15 18:34:03 INFO MemoryStore: Block broadcast_0_piece0 stored as bytes in memory (estimated size 32.9 KiB, free 365.9 MiB)\n",
      "22/03/15 18:34:03 INFO BlockManagerInfo: Added broadcast_0_piece0 in memory on g11-project-master:10006 (size: 32.9 KiB, free: 366.3 MiB)\n",
      "22/03/15 18:34:03 INFO SparkContext: Created broadcast 0 from json at NativeMethodAccessorImpl.java:0\n",
      "22/03/15 18:34:04 INFO FileInputFormat: Total input files to process : 1\n",
      "22/03/15 18:34:04 INFO FileInputFormat: Total input files to process : 1\n",
      "22/03/15 18:34:04 INFO SparkContext: Starting job: json at NativeMethodAccessorImpl.java:0\n",
      "22/03/15 18:34:04 INFO DAGScheduler: Got job 0 (json at NativeMethodAccessorImpl.java:0) with 1 output partitions\n",
      "22/03/15 18:34:04 INFO DAGScheduler: Final stage: ResultStage 0 (json at NativeMethodAccessorImpl.java:0)\n",
      "22/03/15 18:34:04 INFO DAGScheduler: Parents of final stage: List()\n",
      "22/03/15 18:34:04 INFO DAGScheduler: Missing parents: List()\n",
      "22/03/15 18:34:04 INFO DAGScheduler: Submitting ResultStage 0 (MapPartitionsRDD[2] at json at NativeMethodAccessorImpl.java:0), which has no missing parents\n",
      "22/03/15 18:34:04 INFO MemoryStore: Block broadcast_1 stored as values in memory (estimated size 8.6 KiB, free 365.9 MiB)\n",
      "22/03/15 18:34:04 INFO MemoryStore: Block broadcast_1_piece0 stored as bytes in memory (estimated size 4.7 KiB, free 365.9 MiB)\n",
      "22/03/15 18:34:04 INFO BlockManagerInfo: Added broadcast_1_piece0 in memory on g11-project-master:10006 (size: 4.7 KiB, free: 366.3 MiB)\n",
      "22/03/15 18:34:04 INFO SparkContext: Created broadcast 1 from broadcast at DAGScheduler.scala:1478\n",
      "22/03/15 18:34:04 INFO DAGScheduler: Submitting 1 missing tasks from ResultStage 0 (MapPartitionsRDD[2] at json at NativeMethodAccessorImpl.java:0) (first 15 tasks are for partitions Vector(0))\n",
      "22/03/15 18:34:04 INFO TaskSchedulerImpl: Adding task set 0.0 with 1 tasks resource profile 0\n",
      "22/03/15 18:34:05 INFO StandaloneAppClient$ClientEndpoint: Executor added: app-20220315183350-0040/0 on worker-20220312123152-192.168.2.197-35179 (192.168.2.197:35179) with 2 core(s)\n",
      "22/03/15 18:34:05 INFO StandaloneSchedulerBackend: Granted executor ID app-20220315183350-0040/0 on hostPort 192.168.2.197:35179 with 2 core(s), 1024.0 MiB RAM\n",
      "22/03/15 18:34:05 INFO ExecutorAllocationManager: Requesting 1 new executor because tasks are backlogged (new desired total will be 1 for resource profile id: 0)\n",
      "22/03/15 18:34:05 INFO StandaloneAppClient$ClientEndpoint: Executor updated: app-20220315183350-0040/0 is now RUNNING\n",
      "22/03/15 18:34:08 INFO CoarseGrainedSchedulerBackend$DriverEndpoint: Registered executor NettyRpcEndpointRef(spark-client://Executor) (192.168.2.197:55040) with ID 0,  ResourceProfileId 0\n",
      "22/03/15 18:34:08 INFO ExecutorMonitor: New executor 0 has registered (new total is 2)\n",
      "22/03/15 18:34:09 INFO BlockManagerMasterEndpoint: Registering block manager 192.168.2.197:10007 with 366.3 MiB RAM, BlockManagerId(0, 192.168.2.197, 10007, None)\n",
      "22/03/15 18:34:09 INFO TaskSetManager: Starting task 0.0 in stage 0.0 (TID 0) (192.168.2.197, executor 0, partition 0, ANY, 4604 bytes) taskResourceAssignments Map()\n",
      "22/03/15 18:34:09 INFO BlockManagerInfo: Added broadcast_1_piece0 in memory on 192.168.2.197:10007 (size: 4.7 KiB, free: 366.3 MiB)\n",
      "22/03/15 18:34:10 INFO BlockManagerInfo: Added broadcast_0_piece0 in memory on 192.168.2.197:10007 (size: 32.9 KiB, free: 366.3 MiB)\n",
      "22/03/15 18:34:11 INFO TaskSetManager: Finished task 0.0 in stage 0.0 (TID 0) in 2631 ms on 192.168.2.197 (executor 0) (1/1)\n",
      "22/03/15 18:34:11 INFO TaskSchedulerImpl: Removed TaskSet 0.0, whose tasks have all completed, from pool \n",
      "22/03/15 18:34:11 INFO DAGScheduler: ResultStage 0 (json at NativeMethodAccessorImpl.java:0) finished in 7.207 s\n",
      "22/03/15 18:34:11 INFO DAGScheduler: Job 0 is finished. Cancelling potential speculative or zombie tasks for this job\n",
      "22/03/15 18:34:11 INFO TaskSchedulerImpl: Killing all running tasks in stage 0: Stage finished\n",
      "22/03/15 18:34:11 INFO DAGScheduler: Job 0 finished: json at NativeMethodAccessorImpl.java:0, took 7.295687 s\n",
      "22/03/15 18:34:13 INFO BlockManagerInfo: Removed broadcast_0_piece0 on g11-project-master:10006 in memory (size: 32.9 KiB, free: 366.3 MiB)\n",
      "22/03/15 18:34:13 INFO BlockManagerInfo: Removed broadcast_0_piece0 on 192.168.2.197:10007 in memory (size: 32.9 KiB, free: 366.3 MiB)\n",
      "22/03/15 18:34:13 INFO BlockManagerInfo: Removed broadcast_1_piece0 on 192.168.2.197:10007 in memory (size: 4.7 KiB, free: 366.3 MiB)\n",
      "22/03/15 18:34:13 INFO BlockManagerInfo: Removed broadcast_1_piece0 on g11-project-master:10006 in memory (size: 4.7 KiB, free: 366.3 MiB)\n",
      "22/03/15 18:34:15 INFO FileSourceStrategy: Pushed Filters: \n",
      "22/03/15 18:34:15 INFO FileSourceStrategy: Post-Scan Filters: \n",
      "22/03/15 18:34:15 INFO FileSourceStrategy: Output Data Schema: struct<_corrupt_record: string>\n",
      "22/03/15 18:34:41 INFO StandaloneSchedulerBackend: Requesting to kill executor(s) 0\n",
      "22/03/15 18:34:41 INFO StandaloneSchedulerBackend: Actual list of executor(s) to be killed is 0\n",
      "22/03/15 18:34:41 INFO ExecutorAllocationManager: Executors 0 removed due to idle timeout.\n",
      "22/03/15 18:34:42 INFO TaskSchedulerImpl: Executor 0 on 192.168.2.197 killed by driver.\n",
      "22/03/15 18:34:42 INFO DAGScheduler: Executor lost: 0 (epoch 0)\n",
      "22/03/15 18:34:42 INFO BlockManagerMasterEndpoint: Trying to remove executor 0 from BlockManagerMaster.\n",
      "22/03/15 18:34:42 INFO BlockManagerMasterEndpoint: Removing block manager BlockManagerId(0, 192.168.2.197, 10007, None)\n",
      "22/03/15 18:34:42 INFO BlockManagerMaster: Removed 0 successfully in removeExecutor\n",
      "22/03/15 18:34:42 INFO DAGScheduler: Shuffle files lost for executor: 0 (epoch 0)\n",
      "22/03/15 18:34:42 INFO ExecutorMonitor: Executor 0 is removed. Remove reason statistics: (gracefully decommissioned: 0, decommision unfinished: 0, driver killed: 1, unexpectedly exited: 0).\n"
     ]
    }
   ],
   "source": [
    "path = \"hdfs://130.238.28.151:9000/user/ubuntu/Reddits_Comments\"\n",
    "\n",
    "testJsonData = spark_session.read.option(\"multiline\", \"true\")\\\n",
    ".json(path)\\\n",
    ".cache()"
   ]
  },
  {
   "cell_type": "code",
   "execution_count": null,
   "id": "c54a7b85-6e38-412a-83f8-96444f5a74f3",
   "metadata": {},
   "outputs": [],
   "source": []
  }
 ],
 "metadata": {
  "kernelspec": {
   "display_name": "Python 3 (ipykernel)",
   "language": "python",
   "name": "python3"
  },
  "language_info": {
   "codemirror_mode": {
    "name": "ipython",
    "version": 3
   },
   "file_extension": ".py",
   "mimetype": "text/x-python",
   "name": "python",
   "nbconvert_exporter": "python",
   "pygments_lexer": "ipython3",
   "version": "3.8.10"
  }
 },
 "nbformat": 4,
 "nbformat_minor": 5
}
